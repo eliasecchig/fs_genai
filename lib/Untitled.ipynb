{
 "cells": [
  {
   "cell_type": "code",
   "execution_count": 76,
   "id": "a3032786-0689-4929-a9e0-d859a5095311",
   "metadata": {},
   "outputs": [],
   "source": [
    "from pydantic import BaseModel\n",
    "from typing import Union\n",
    "from typing import Literal\n",
    "\n",
    "class MyBackend(BaseModel):\n",
    "    backend_type: Literal[\"my_backend\"] = \"my_backend\"\n",
    "    my_param: str\n",
    "\n",
    "    def create_store(self):\n",
    "        print(self.my_param)\n",
    "        \n",
    "class MyAnotherBackend(BaseModel):\n",
    "    backend_type: Literal[\"my_another_backend\"] = \"my_another_backend\"\n",
    "    my_other_param: str\n",
    "    \n",
    "    def create_store(self, fs_class):\n",
    "        print(self.my_other_param, 1223)\n",
    "        print(fs_class.project_id)\n",
    "        print(fs_class.backend.__dir__())\n",
    "\n",
    "\n",
    "class VertexAIFeatureStore(BaseModel):\n",
    "    backend: Union[MyBackend, MyAnotherBackend]\n",
    "    project_id: str\n",
    "    dataset : str\n",
    "\n",
    "    def test(self):\n",
    "        self.backend.create_store(self)\n",
    "   "
   ]
  },
  {
   "cell_type": "code",
   "execution_count": 77,
   "id": "9efc32b2-e7e0-4f71-97ea-e2aed9062947",
   "metadata": {},
   "outputs": [
    {
     "name": "stdout",
     "output_type": "stream",
     "text": [
      "test123 1223\n",
      "testproj\n",
      "['backend_type', 'my_other_param', '__module__', '__annotations__', 'create_store', 'model_config', '__class_vars__', '__private_attributes__', '__weakref__', '__doc__', '__abstractmethods__', '_abc_impl', '__pydantic_custom_init__', '__pydantic_post_init__', '__pydantic_decorators__', '__pydantic_generic_metadata__', '__pydantic_complete__', '__pydantic_parent_namespace__', 'model_fields', '__pydantic_core_schema__', '__pydantic_validator__', '__pydantic_serializer__', '__signature__', 'model_computed_fields', '__slots__', '__pydantic_root_model__', '__init__', 'model_extra', 'model_fields_set', 'model_construct', 'model_copy', 'model_dump', 'model_dump_json', 'model_json_schema', 'model_parametrized_name', 'model_post_init', 'model_rebuild', 'model_validate', 'model_validate_json', 'model_validate_strings', '__get_pydantic_core_schema__', '__get_pydantic_json_schema__', '__pydantic_init_subclass__', '__class_getitem__', '__copy__', '__deepcopy__', '__getattr__', '__setattr__', '__delattr__', '_check_frozen', '__getstate__', '__setstate__', '__eq__', '__iter__', '__repr__', '__repr_args__', '__repr_name__', '__repr_str__', '__pretty__', '__rich_repr__', '__str__', '__fields__', '__fields_set__', 'dict', 'json', 'parse_obj', 'parse_raw', 'parse_file', 'from_orm', 'construct', 'copy', 'schema', 'schema_json', 'validate', 'update_forward_refs', '_iter', '_copy_and_set_values', '_get_value', '_calculate_keys', '__pydantic_extra__', '__pydantic_fields_set__', '__pydantic_private__', '__dict__', '__hash__', '__new__', '__getattribute__', '__lt__', '__le__', '__ne__', '__gt__', '__ge__', '__reduce_ex__', '__reduce__', '__subclasshook__', '__init_subclass__', '__format__', '__sizeof__', '__dir__', '__class__']\n"
     ]
    }
   ],
   "source": [
    "VertexAIFeatureStore(\n",
    "    project_id= \"testproj\",\n",
    "    dataset=\"test\",\n",
    "    backend={\"backend_type\":\"my_another_backend\", \"my_other_param\":\"test123\"}\n",
    ").test()\n"
   ]
  },
  {
   "cell_type": "code",
   "execution_count": null,
   "id": "29b3f558-e5dc-431d-a91c-a07e6b14d42b",
   "metadata": {},
   "outputs": [],
   "source": []
  },
  {
   "cell_type": "code",
   "execution_count": null,
   "id": "175d8b3a-92cd-44a8-9c5d-09aa59e22836",
   "metadata": {},
   "outputs": [],
   "source": []
  }
 ],
 "metadata": {
  "kernelspec": {
   "display_name": "Python 3 (ipykernel)",
   "language": "python",
   "name": "python3"
  },
  "language_info": {
   "codemirror_mode": {
    "name": "ipython",
    "version": 3
   },
   "file_extension": ".py",
   "mimetype": "text/x-python",
   "name": "python",
   "nbconvert_exporter": "python",
   "pygments_lexer": "ipython3",
   "version": "3.10.9"
  }
 },
 "nbformat": 4,
 "nbformat_minor": 5
}
